{
  "nbformat": 4,
  "nbformat_minor": 0,
  "metadata": {
    "colab": {
      "name": "NumPy basics.ipynb",
      "provenance": [],
      "authorship_tag": "ABX9TyO/lKupj/b+OShiI0hRR2jI",
      "include_colab_link": true
    },
    "kernelspec": {
      "name": "python3",
      "display_name": "Python 3"
    },
    "language_info": {
      "name": "python"
    }
  },
  "cells": [
    {
      "cell_type": "markdown",
      "metadata": {
        "id": "view-in-github",
        "colab_type": "text"
      },
      "source": [
        "<a href=\"https://colab.research.google.com/github/nivedita-rajesh/COLAB-WORKS/blob/main/NumPy_basics.ipynb\" target=\"_parent\"><img src=\"https://colab.research.google.com/assets/colab-badge.svg\" alt=\"Open In Colab\"/></a>"
      ]
    },
    {
      "cell_type": "code",
      "metadata": {
        "id": "26DPjB0QpnTY"
      },
      "source": [
        "#NUMPY BASICS"
      ],
      "execution_count": 2,
      "outputs": []
    },
    {
      "cell_type": "code",
      "metadata": {
        "id": "aSrelGHtputB"
      },
      "source": [
        "import numpy as np"
      ],
      "execution_count": 3,
      "outputs": []
    },
    {
      "cell_type": "markdown",
      "metadata": {
        "id": "s0Q1_7kVqPOJ"
      },
      "source": [
        "SINGLE DIMENSIONAL ARRAY\n"
      ]
    },
    {
      "cell_type": "code",
      "metadata": {
        "colab": {
          "base_uri": "https://localhost:8080/"
        },
        "id": "Ku2oJ2VFpyX4",
        "outputId": "8afa42a1-da86-4802-a4ad-6c5cc4ef2d12"
      },
      "source": [
        "a=np.array([2,4,6])\n",
        "print(a)"
      ],
      "execution_count": 4,
      "outputs": [
        {
          "output_type": "stream",
          "text": [
            "[2 4 6]\n"
          ],
          "name": "stdout"
        }
      ]
    },
    {
      "cell_type": "markdown",
      "metadata": {
        "id": "CFLSrzugqT8R"
      },
      "source": [
        "MULTI-DIMENSIONAL\n"
      ]
    },
    {
      "cell_type": "code",
      "metadata": {
        "colab": {
          "base_uri": "https://localhost:8080/"
        },
        "id": "Nl8bhEagqJKT",
        "outputId": "6069b083-5f9d-486b-f839-8eb10e299429"
      },
      "source": [
        "a=np.array([(2,4,6),(1,4,8)])\n",
        "print(a)"
      ],
      "execution_count": 6,
      "outputs": [
        {
          "output_type": "stream",
          "text": [
            "[[2 4 6]\n",
            " [1 4 8]]\n"
          ],
          "name": "stdout"
        }
      ]
    },
    {
      "cell_type": "markdown",
      "metadata": {
        "id": "djjoDIUPs_g1"
      },
      "source": [
        "NumPy ARRAY v/s LIST\n",
        "1.   Less Memory\n",
        "2.   Fast\n",
        "3.   Convenient"
      ]
    },
    {
      "cell_type": "code",
      "metadata": {
        "colab": {
          "base_uri": "https://localhost:8080/"
        },
        "id": "Vcl-kvHEtFO7",
        "outputId": "462e7e92-1216-40a3-9062-a8e06ac96aa5"
      },
      "source": [
        "#less memory\n",
        "import time\n",
        "import sys\n",
        "S= range(1000)\n",
        "print(sys.getsizeof(5)*len(S))\n",
        " \n",
        "D= np.arange(1000)\n",
        "print(D.size*D.itemsize)"
      ],
      "execution_count": 9,
      "outputs": [
        {
          "output_type": "stream",
          "text": [
            "28000\n",
            "8000\n"
          ],
          "name": "stdout"
        }
      ]
    },
    {
      "cell_type": "code",
      "metadata": {
        "colab": {
          "base_uri": "https://localhost:8080/"
        },
        "id": "azGGMjg7twpd",
        "outputId": "092d53ca-5e15-4b2a-a1be-351ade831c30"
      },
      "source": [
        "#faster\n",
        "import time\n",
        "import sys\n",
        " \n",
        "SIZE = 1000000\n",
        " \n",
        "L1= range(SIZE)\n",
        "L2= range(SIZE)\n",
        "A1= np.arange(SIZE)\n",
        "A2=np.arange(SIZE)\n",
        " \n",
        "start= time.time()\n",
        "result=[(x,y) for x,y in zip(L1,L2)]\n",
        "print((time.time()-start)*1000)\n",
        " \n",
        "start=time.time()\n",
        "result= A1+A2\n",
        "print((time.time()-start)*1000)"
      ],
      "execution_count": 10,
      "outputs": [
        {
          "output_type": "stream",
          "text": [
            "191.03431701660156\n",
            "47.286033630371094\n"
          ],
          "name": "stdout"
        }
      ]
    },
    {
      "cell_type": "markdown",
      "metadata": {
        "id": "j4w2ncCiuGIN"
      },
      "source": [
        "NumPy OPERATIONS"
      ]
    },
    {
      "cell_type": "code",
      "metadata": {
        "colab": {
          "base_uri": "https://localhost:8080/"
        },
        "id": "laFGdzEeuFu9",
        "outputId": "c4c74962-4cee-4cd1-ca03-754f20e1535d"
      },
      "source": [
        "#dimension of array\n",
        "a = np.array([(1,2,3),(4,5,6)])\n",
        "print(a.ndim)"
      ],
      "execution_count": 11,
      "outputs": [
        {
          "output_type": "stream",
          "text": [
            "2\n"
          ],
          "name": "stdout"
        }
      ]
    },
    {
      "cell_type": "code",
      "metadata": {
        "colab": {
          "base_uri": "https://localhost:8080/"
        },
        "id": "m3cSJhRFubHG",
        "outputId": "c3ab8b9b-ccb9-44d6-e5b9-5104b34566bf"
      },
      "source": [
        "# bite size of each element\n",
        "a = np.array([(1,2,3)])\n",
        "print(a.itemsize)"
      ],
      "execution_count": 12,
      "outputs": [
        {
          "output_type": "stream",
          "text": [
            "8\n"
          ],
          "name": "stdout"
        }
      ]
    },
    {
      "cell_type": "code",
      "metadata": {
        "colab": {
          "base_uri": "https://localhost:8080/"
        },
        "id": "4reWx9WhulBR",
        "outputId": "1f58370a-ef98-4e88-ebab-bb59722d8d54"
      },
      "source": [
        "#data-type\n",
        "a = np.array([(1,2,3)])\n",
        "print(a.dtype)"
      ],
      "execution_count": 13,
      "outputs": [
        {
          "output_type": "stream",
          "text": [
            "int64\n"
          ],
          "name": "stdout"
        }
      ]
    },
    {
      "cell_type": "code",
      "metadata": {
        "colab": {
          "base_uri": "https://localhost:8080/"
        },
        "id": "NwPJVXO_uvwS",
        "outputId": "43fd51f7-c235-4b20-d54d-a0cf5a4ce4e7"
      },
      "source": [
        "#size & shape\n",
        "a = np.array([(1,2,3,4,5)])\n",
        "print(a.size)\n",
        "print(a.shape)"
      ],
      "execution_count": 14,
      "outputs": [
        {
          "output_type": "stream",
          "text": [
            "5\n",
            "(1, 5)\n"
          ],
          "name": "stdout"
        }
      ]
    },
    {
      "cell_type": "code",
      "metadata": {
        "colab": {
          "base_uri": "https://localhost:8080/"
        },
        "id": "ZarVzJPnvFlp",
        "outputId": "77eabcf7-8820-4358-e0d9-477a4f39f3e1"
      },
      "source": [
        "#reshape- to change number of rows and columns\n",
        "a = np.array([(1,2,3),(4,5,6)])\n",
        "print(a)\n",
        "a=a.reshape(3,2)\n",
        "print(a)"
      ],
      "execution_count": 17,
      "outputs": [
        {
          "output_type": "stream",
          "text": [
            "[[1 2 3]\n",
            " [4 5 6]]\n",
            "[[1 2]\n",
            " [3 4]\n",
            " [5 6]]\n"
          ],
          "name": "stdout"
        }
      ]
    },
    {
      "cell_type": "markdown",
      "metadata": {
        "id": "vSpYZ7gpvygG"
      },
      "source": [
        "slicing-extracting particular set of elements"
      ]
    },
    {
      "cell_type": "code",
      "metadata": {
        "colab": {
          "base_uri": "https://localhost:8080/"
        },
        "id": "j_JxYlsyvU7H",
        "outputId": "eb02ea62-116a-4138-b5e4-527d327fd780"
      },
      "source": [
        "\n",
        "#example-\n",
        "a=np.array([(1,2,3,4),(3,4,5,6)])\n",
        "print(a[0,2])"
      ],
      "execution_count": 18,
      "outputs": [
        {
          "output_type": "stream",
          "text": [
            "3\n"
          ],
          "name": "stdout"
        }
      ]
    },
    {
      "cell_type": "code",
      "metadata": {
        "colab": {
          "base_uri": "https://localhost:8080/"
        },
        "id": "Lz4LZVCLvwhA",
        "outputId": "6d7053bf-ba48-467c-916f-d4ea23f0fed4"
      },
      "source": [
        "a=np.array([(1,2,3,4),(3,4,5,6)])\n",
        "print(a[0:,2])"
      ],
      "execution_count": 19,
      "outputs": [
        {
          "output_type": "stream",
          "text": [
            "[3 5]\n"
          ],
          "name": "stdout"
        }
      ]
    },
    {
      "cell_type": "code",
      "metadata": {
        "colab": {
          "base_uri": "https://localhost:8080/"
        },
        "id": "2hP7mwI_wBGw",
        "outputId": "1f066b8e-a78a-44ab-bcb1-b30d679f120e"
      },
      "source": [
        "a=np.array([(8,9),(10,11),(12,13)])\n",
        "print(a[0:2,1])"
      ],
      "execution_count": 20,
      "outputs": [
        {
          "output_type": "stream",
          "text": [
            "[ 9 11]\n"
          ],
          "name": "stdout"
        }
      ]
    },
    {
      "cell_type": "code",
      "metadata": {
        "colab": {
          "base_uri": "https://localhost:8080/"
        },
        "id": "NwKGDt_VwDpb",
        "outputId": "a44af522-cd98-4f0b-e63a-ecbf7b21b5f9"
      },
      "source": [
        "#linspace-evenly spaced numbers over a specified interval\n",
        "a=np.linspace(1,4,8)\n",
        "print(a)#8 values between 1&4"
      ],
      "execution_count": 22,
      "outputs": [
        {
          "output_type": "stream",
          "text": [
            "[1.         1.42857143 1.85714286 2.28571429 2.71428571 3.14285714\n",
            " 3.57142857 4.        ]\n"
          ],
          "name": "stdout"
        }
      ]
    },
    {
      "cell_type": "code",
      "metadata": {
        "colab": {
          "base_uri": "https://localhost:8080/"
        },
        "id": "y9yGzdfTwTZT",
        "outputId": "d60994db-9c21-4933-9aa4-b35abc52b372"
      },
      "source": [
        "#max/min\n",
        "a= np.array([2,5,3])\n",
        "print(a.min())\n",
        "print(a.max())\n",
        "print(a.sum())"
      ],
      "execution_count": 23,
      "outputs": [
        {
          "output_type": "stream",
          "text": [
            "2\n",
            "5\n",
            "10\n"
          ],
          "name": "stdout"
        }
      ]
    },
    {
      "cell_type": "code",
      "metadata": {
        "colab": {
          "base_uri": "https://localhost:8080/"
        },
        "id": "uXgdJh0AwrRR",
        "outputId": "bf7280ae-bbef-4d6e-8e21-4311db2f6afc"
      },
      "source": [
        "#AXIS-rows(axis1) &columns(axis0)\n",
        "a= np.array([(1,2,3),(3,4,5)])\n",
        "print(a.sum(axis=0))"
      ],
      "execution_count": 27,
      "outputs": [
        {
          "output_type": "stream",
          "text": [
            "[4 6 8]\n"
          ],
          "name": "stdout"
        }
      ]
    },
    {
      "cell_type": "code",
      "metadata": {
        "colab": {
          "base_uri": "https://localhost:8080/"
        },
        "id": "p7EwWGhq1MIM",
        "outputId": "31b448f0-3700-456a-f4b6-f5732444f8cd"
      },
      "source": [
        "#Square Root & Standard Deviation\n",
        "a=np.array([(1,2,3),(4,5,6)])\n",
        "print(np.sqrt(a))\n",
        "print(np.std(a))"
      ],
      "execution_count": 30,
      "outputs": [
        {
          "output_type": "stream",
          "text": [
            "[[1.         1.41421356 1.73205081]\n",
            " [2.         2.23606798 2.44948974]]\n",
            "1.707825127659933\n"
          ],
          "name": "stdout"
        }
      ]
    },
    {
      "cell_type": "markdown",
      "metadata": {
        "id": "wwJkXawu12Y0"
      },
      "source": [
        "OPERATIONS\n"
      ]
    },
    {
      "cell_type": "code",
      "metadata": {
        "colab": {
          "base_uri": "https://localhost:8080/"
        },
        "id": "c8uKmHh01eZX",
        "outputId": "0b5ea8c2-d44b-4718-dcbc-d594c53ee387"
      },
      "source": [
        "x= np.array([(1,2,3),(3,4,5)])\n",
        "y= np.array([(1,2,3),(3,4,5)])\n",
        "print(x+y)\n",
        "print(x-y)\n",
        "print(x*y)\n",
        "print(x/y)"
      ],
      "execution_count": 32,
      "outputs": [
        {
          "output_type": "stream",
          "text": [
            "[[ 2  4  6]\n",
            " [ 6  8 10]]\n",
            "[[0 0 0]\n",
            " [0 0 0]]\n",
            "[[ 1  4  9]\n",
            " [ 9 16 25]]\n",
            "[[1. 1. 1.]\n",
            " [1. 1. 1.]]\n"
          ],
          "name": "stdout"
        }
      ]
    },
    {
      "cell_type": "code",
      "metadata": {
        "colab": {
          "base_uri": "https://localhost:8080/"
        },
        "id": "YiYmAdsR1_oE",
        "outputId": "726d7eda-d78e-4275-bfdb-ed71dba1502a"
      },
      "source": [
        "#Vertical & Horizontal Stacking\n",
        "x= np.array([(1,2,3),(3,4,5)])\n",
        "y= np.array([(1,2,3),(3,4,5)])\n",
        "print(np.vstack((x,y)))\n",
        "print(np.hstack((x,y)))"
      ],
      "execution_count": 33,
      "outputs": [
        {
          "output_type": "stream",
          "text": [
            "[[1 2 3]\n",
            " [3 4 5]\n",
            " [1 2 3]\n",
            " [3 4 5]]\n",
            "[[1 2 3 1 2 3]\n",
            " [3 4 5 3 4 5]]\n"
          ],
          "name": "stdout"
        }
      ]
    },
    {
      "cell_type": "code",
      "metadata": {
        "colab": {
          "base_uri": "https://localhost:8080/"
        },
        "id": "EtCr6Z8D2JGH",
        "outputId": "f48bb0f2-a470-46f1-9391-7896c1b3dfcb"
      },
      "source": [
        "#ravel-convert one numpy array into a single column\n",
        "x= np.array([(1,2,3),(3,4,5)])\n",
        "print(x.ravel())"
      ],
      "execution_count": 34,
      "outputs": [
        {
          "output_type": "stream",
          "text": [
            "[1 2 3 3 4 5]\n"
          ],
          "name": "stdout"
        }
      ]
    },
    {
      "cell_type": "markdown",
      "metadata": {
        "id": "YJCRXNSP2V_M"
      },
      "source": [
        "*Numpy Special Function*\n"
      ]
    },
    {
      "cell_type": "code",
      "metadata": {
        "colab": {
          "base_uri": "https://localhost:8080/",
          "height": 265
        },
        "id": "Dpmv0C5g2SXC",
        "outputId": "a35fed2a-42b7-4a53-c46a-783ee6ab5993"
      },
      "source": [
        "import matplotlib.pyplot as plt\n",
        "x= np.arange(0,3*np.pi,0.1)\n",
        "y=np.sin(x)\n",
        "plt.plot(x,y)\n",
        "plt.show()"
      ],
      "execution_count": 35,
      "outputs": [
        {
          "output_type": "display_data",
          "data": {
            "image/png": "[encoded data removed]",
            "text/plain": [
              "<Figure size 432x288 with 1 Axes>"
            ]
          },
          "metadata": {
            "tags": [],
            "needs_background": "light"
          }
        }
      ]
    },
    {
      "cell_type": "code",
      "metadata": {
        "colab": {
          "base_uri": "https://localhost:8080/",
          "height": 265
        },
        "id": "49Ze1B7W2pIp",
        "outputId": "04f6eec4-6db7-4a10-e2d1-62ffbf2d05f0"
      },
      "source": [
        "import matplotlib.pyplot as plt\n",
        "x= np.arange(0,3*np.pi,0.1)\n",
        "y=np.tan(x)\n",
        "plt.plot(x,y)\n",
        "plt.show()"
      ],
      "execution_count": 36,
      "outputs": [
        {
          "output_type": "display_data",
          "data": {
            "image/png": "[encoded data removed]",
            "text/plain": [
              "<Figure size 432x288 with 1 Axes>"
            ]
          },
          "metadata": {
            "tags": [],
            "needs_background": "light"
          }
        }
      ]
    },
    {
      "cell_type": "code",
      "metadata": {
        "colab": {
          "base_uri": "https://localhost:8080/"
        },
        "id": "nQa2vQKx2xbM",
        "outputId": "999b0001-e56c-434a-d806-69c7b8d666ab"
      },
      "source": [
        "#exponential\n",
        "a= np.array([1,2,3])\n",
        "print(np.exp(a))"
      ],
      "execution_count": 37,
      "outputs": [
        {
          "output_type": "stream",
          "text": [
            "[ 2.71828183  7.3890561  20.08553692]\n"
          ],
          "name": "stdout"
        }
      ]
    },
    {
      "cell_type": "code",
      "metadata": {
        "colab": {
          "base_uri": "https://localhost:8080/"
        },
        "id": "c6VsbJCs25xj",
        "outputId": "85b7b9e8-afae-450a-9b1d-d20a5ee50f63"
      },
      "source": [
        "#logarithms-natural log\n",
        "import matplotlib.pyplot as plt\n",
        "a= np.array([1,2,3])\n",
        "print(np.log(a))"
      ],
      "execution_count": 38,
      "outputs": [
        {
          "output_type": "stream",
          "text": [
            "[0.         0.69314718 1.09861229]\n"
          ],
          "name": "stdout"
        }
      ]
    },
    {
      "cell_type": "code",
      "metadata": {
        "colab": {
          "base_uri": "https://localhost:8080/"
        },
        "id": "cp3oACRm3AA6",
        "outputId": "23db786c-bbfd-48fb-de3c-75b3692e2d9f"
      },
      "source": [
        "#log with base \n",
        "import matplotlib.pyplot as plt\n",
        "a= np.array([1,2,3])\n",
        "print(np.log10(a))"
      ],
      "execution_count": 39,
      "outputs": [
        {
          "output_type": "stream",
          "text": [
            "[0.         0.30103    0.47712125]\n"
          ],
          "name": "stdout"
        }
      ]
    },
    {
      "cell_type": "code",
      "metadata": {
        "id": "H9dVHTuq3IA3"
      },
      "source": [
        ""
      ],
      "execution_count": null,
      "outputs": []
    },
    {
      "cell_type": "code",
      "metadata": {
        "id": "IdQH9t_e1ytg"
      },
      "source": [
        ""
      ],
      "execution_count": null,
      "outputs": []
    }
  ]
}